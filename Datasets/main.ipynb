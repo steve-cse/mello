{
 "cells": [
  {
   "cell_type": "code",
   "execution_count": 1,
   "metadata": {},
   "outputs": [],
   "source": [
    "import pandas as pd"
   ]
  },
  {
   "cell_type": "code",
   "execution_count": 6,
   "metadata": {},
   "outputs": [],
   "source": [
    "# Read the CSV file\n",
    "df = pd.read_csv('20220401_counsel_chat.csv')"
   ]
  },
  {
   "cell_type": "code",
   "execution_count": 7,
   "metadata": {},
   "outputs": [],
   "source": [
    "# Keep only the necessary columns\n",
    "df = df[['questionTitle', 'questionText', 'answerText']]"
   ]
  },
  {
   "cell_type": "code",
   "execution_count": 8,
   "metadata": {},
   "outputs": [
    {
     "name": "stdout",
     "output_type": "stream",
     "text": [
      "                                     questionTitle  \\\n",
      "0        Do I have too many issues for counseling?   \n",
      "1        Do I have too many issues for counseling?   \n",
      "2        Do I have too many issues for counseling?   \n",
      "3        Do I have too many issues for counseling?   \n",
      "4        Do I have too many issues for counseling?   \n",
      "...                                            ...   \n",
      "2770  Are some clients more difficult than others?   \n",
      "2771  Are some clients more difficult than others?   \n",
      "2772  Are some clients more difficult than others?   \n",
      "2773  Are some clients more difficult than others?   \n",
      "2774  Are some clients more difficult than others?   \n",
      "\n",
      "                                           questionText  \\\n",
      "0     I have so many issues to address. I have a his...   \n",
      "1     I have so many issues to address. I have a his...   \n",
      "2     I have so many issues to address. I have a his...   \n",
      "3     I have so many issues to address. I have a his...   \n",
      "4     I have so many issues to address. I have a his...   \n",
      "...                                                 ...   \n",
      "2770  What are some difficulties that a counselor ca...   \n",
      "2771  What are some difficulties that a counselor ca...   \n",
      "2772  What are some difficulties that a counselor ca...   \n",
      "2773  What are some difficulties that a counselor ca...   \n",
      "2774  What are some difficulties that a counselor ca...   \n",
      "\n",
      "                                             answerText  \n",
      "0     It is very common for people to have multiple ...  \n",
      "1     I've never heard of someone having \"too many i...  \n",
      "2     Absolutely not.  I strongly recommending worki...  \n",
      "3     Let me start by saying there are never too man...  \n",
      "4     I just want to acknowledge you for the courage...  \n",
      "...                                                 ...  \n",
      "2770  Although many clients have the capacity to be ...  \n",
      "2771  I usually don't label a client as \"difficult\" ...  \n",
      "2772  Dang right!  :)Heh heh, and correct me if I'm ...  \n",
      "2773  Yes, just like some relationships outside of o...  \n",
      "2774  Each counselor will have their own list of \"di...  \n",
      "\n",
      "[2775 rows x 3 columns]\n"
     ]
    }
   ],
   "source": [
    "print (df)"
   ]
  },
  {
   "cell_type": "code",
   "execution_count": 9,
   "metadata": {},
   "outputs": [],
   "source": [
    "# Rename the columns\n",
    "df = df.rename(columns={'questionTitle': 'input', 'questionText': 'instruction', 'answerText': 'output'})"
   ]
  },
  {
   "cell_type": "code",
   "execution_count": 10,
   "metadata": {},
   "outputs": [
    {
     "name": "stdout",
     "output_type": "stream",
     "text": [
      "                                             input  \\\n",
      "0        Do I have too many issues for counseling?   \n",
      "1        Do I have too many issues for counseling?   \n",
      "2        Do I have too many issues for counseling?   \n",
      "3        Do I have too many issues for counseling?   \n",
      "4        Do I have too many issues for counseling?   \n",
      "...                                            ...   \n",
      "2770  Are some clients more difficult than others?   \n",
      "2771  Are some clients more difficult than others?   \n",
      "2772  Are some clients more difficult than others?   \n",
      "2773  Are some clients more difficult than others?   \n",
      "2774  Are some clients more difficult than others?   \n",
      "\n",
      "                                            instruction  \\\n",
      "0     I have so many issues to address. I have a his...   \n",
      "1     I have so many issues to address. I have a his...   \n",
      "2     I have so many issues to address. I have a his...   \n",
      "3     I have so many issues to address. I have a his...   \n",
      "4     I have so many issues to address. I have a his...   \n",
      "...                                                 ...   \n",
      "2770  What are some difficulties that a counselor ca...   \n",
      "2771  What are some difficulties that a counselor ca...   \n",
      "2772  What are some difficulties that a counselor ca...   \n",
      "2773  What are some difficulties that a counselor ca...   \n",
      "2774  What are some difficulties that a counselor ca...   \n",
      "\n",
      "                                                 output  \n",
      "0     It is very common for people to have multiple ...  \n",
      "1     I've never heard of someone having \"too many i...  \n",
      "2     Absolutely not.  I strongly recommending worki...  \n",
      "3     Let me start by saying there are never too man...  \n",
      "4     I just want to acknowledge you for the courage...  \n",
      "...                                                 ...  \n",
      "2770  Although many clients have the capacity to be ...  \n",
      "2771  I usually don't label a client as \"difficult\" ...  \n",
      "2772  Dang right!  :)Heh heh, and correct me if I'm ...  \n",
      "2773  Yes, just like some relationships outside of o...  \n",
      "2774  Each counselor will have their own list of \"di...  \n",
      "\n",
      "[2775 rows x 3 columns]\n"
     ]
    }
   ],
   "source": [
    "print (df)"
   ]
  },
  {
   "cell_type": "code",
   "execution_count": 12,
   "metadata": {},
   "outputs": [],
   "source": [
    "# Save the dataframe to a JSON file\n",
    "df.to_json('output.json', orient='records', lines=False)"
   ]
  },
  {
   "cell_type": "code",
   "execution_count": 13,
   "metadata": {},
   "outputs": [],
   "source": [
    "# Read the JSON file into a DataFrame\n",
    "df = pd.read_json('output.json')"
   ]
  },
  {
   "cell_type": "code",
   "execution_count": 14,
   "metadata": {},
   "outputs": [],
   "source": [
    "# Drop rows with blank values in the 'output', 'instruction', and 'input' columns\n",
    "df_cleaned = df.dropna(subset=['output', 'instruction', 'input'])"
   ]
  },
  {
   "cell_type": "code",
   "execution_count": 15,
   "metadata": {},
   "outputs": [
    {
     "name": "stdout",
     "output_type": "stream",
     "text": [
      "DataFrame after removing rows with blank values:\n",
      "                                             input  \\\n",
      "0        Do I have too many issues for counseling?   \n",
      "1        Do I have too many issues for counseling?   \n",
      "2        Do I have too many issues for counseling?   \n",
      "3        Do I have too many issues for counseling?   \n",
      "4        Do I have too many issues for counseling?   \n",
      "...                                            ...   \n",
      "2770  Are some clients more difficult than others?   \n",
      "2771  Are some clients more difficult than others?   \n",
      "2772  Are some clients more difficult than others?   \n",
      "2773  Are some clients more difficult than others?   \n",
      "2774  Are some clients more difficult than others?   \n",
      "\n",
      "                                            instruction  \\\n",
      "0     I have so many issues to address. I have a his...   \n",
      "1     I have so many issues to address. I have a his...   \n",
      "2     I have so many issues to address. I have a his...   \n",
      "3     I have so many issues to address. I have a his...   \n",
      "4     I have so many issues to address. I have a his...   \n",
      "...                                                 ...   \n",
      "2770  What are some difficulties that a counselor ca...   \n",
      "2771  What are some difficulties that a counselor ca...   \n",
      "2772  What are some difficulties that a counselor ca...   \n",
      "2773  What are some difficulties that a counselor ca...   \n",
      "2774  What are some difficulties that a counselor ca...   \n",
      "\n",
      "                                                 output  \n",
      "0     It is very common for people to have multiple ...  \n",
      "1     I've never heard of someone having \"too many i...  \n",
      "2     Absolutely not.  I strongly recommending worki...  \n",
      "3     Let me start by saying there are never too man...  \n",
      "4     I just want to acknowledge you for the courage...  \n",
      "...                                                 ...  \n",
      "2770  Although many clients have the capacity to be ...  \n",
      "2771  I usually don't label a client as \"difficult\" ...  \n",
      "2772  Dang right!  :)Heh heh, and correct me if I'm ...  \n",
      "2773  Yes, just like some relationships outside of o...  \n",
      "2774  Each counselor will have their own list of \"di...  \n",
      "\n",
      "[2612 rows x 3 columns]\n"
     ]
    }
   ],
   "source": [
    "# Display the cleaned DataFrame\n",
    "print(\"DataFrame after removing rows with blank values:\")\n",
    "print(df_cleaned)"
   ]
  },
  {
   "cell_type": "code",
   "execution_count": 16,
   "metadata": {},
   "outputs": [],
   "source": [
    "# Save the cleaned DataFrame to a new JSON Lines (JSONL) file\n",
    "df_cleaned.to_json('output_cleaned.jsonl', orient='records', lines=True)"
   ]
  },
  {
   "cell_type": "code",
   "execution_count": 18,
   "metadata": {},
   "outputs": [
    {
     "name": "stdout",
     "output_type": "stream",
     "text": [
      "Modified dataset saved to modified_psychology_dataset.jsonl\n"
     ]
    }
   ],
   "source": [
    "from datasets import load_dataset\n",
    "import pandas as pd\n",
    "\n",
    "# Download the dataset\n",
    "dataset = load_dataset(\"jkhedri/psychology-dataset\")\n",
    "\n",
    "# Access the training split (you can modify this if you want a different split)\n",
    "train_dataset = dataset[\"train\"]\n",
    "\n",
    "# Convert the dataset to a Pandas DataFrame\n",
    "df = pd.DataFrame(train_dataset)\n",
    "\n",
    "# Change column names\n",
    "df = df.rename(columns={\"question\": \"instruction\", \"response_j\": \"output\"})\n",
    "\n",
    "# Delete the \"response_k\" column\n",
    "df = df.drop(\"response_k\", axis=1)\n",
    "\n",
    "# Add a blank column named \"input\"\n",
    "df[\"input\"] = \"\"\n",
    "\n",
    "# Drop rows with blank values in \"instruction\" and \"output\" columns\n",
    "df = df.dropna(subset=[\"instruction\", \"output\"])\n",
    "\n",
    "# Save the modified dataset as a JSONL file\n",
    "output_file = \"modified_psychology_dataset.jsonl\"\n",
    "df.to_json(output_file, orient=\"records\", lines=True)\n",
    "\n",
    "print(f\"Modified dataset saved to {output_file}\")\n"
   ]
  }
 ],
 "metadata": {
  "kernelspec": {
   "display_name": "Python 3",
   "language": "python",
   "name": "python3"
  },
  "language_info": {
   "codemirror_mode": {
    "name": "ipython",
    "version": 3
   },
   "file_extension": ".py",
   "mimetype": "text/x-python",
   "name": "python",
   "nbconvert_exporter": "python",
   "pygments_lexer": "ipython3",
   "version": "3.10.0"
  }
 },
 "nbformat": 4,
 "nbformat_minor": 2
}
