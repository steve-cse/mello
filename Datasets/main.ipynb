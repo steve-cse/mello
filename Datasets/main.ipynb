{
 "cells": [
  {
   "cell_type": "code",
   "execution_count": 10,
   "metadata": {},
   "outputs": [],
   "source": [
    "import pandas as pd"
   ]
  },
  {
   "cell_type": "code",
   "execution_count": 15,
   "metadata": {},
   "outputs": [],
   "source": [
    "# Load the dataset\n",
    "file_path = 'combined_dataset.json'\n",
    "df = pd.read_json(file_path, lines=True)\n",
    "\n"
   ]
  },
  {
   "cell_type": "code",
   "execution_count": 16,
   "metadata": {},
   "outputs": [
    {
     "name": "stdout",
     "output_type": "stream",
     "text": [
      "Dataset has been successfully converted. Modified dataset saved to modified_mental_health_dataset.jsonl\n"
     ]
    }
   ],
   "source": [
    "# Rename columns\n",
    "df.rename(columns={'Context': 'instruction', 'Response': 'output'}, inplace=True)\n",
    "\n",
    "# Save the modified dataset in JSON Lines format\n",
    "output_file_path = 'modified_mental_health_dataset.jsonl'\n",
    "df.to_json(output_file_path, orient='records', lines=True)\n",
    "\n",
    "print(f'Dataset has been successfully converted. Modified dataset saved to {output_file_path}')"
   ]
  },
  {
   "cell_type": "code",
   "execution_count": 17,
   "metadata": {},
   "outputs": [
    {
     "name": "stdout",
     "output_type": "stream",
     "text": [
      "Modified dataset saved to modified_psychology_dataset.jsonl\n"
     ]
    }
   ],
   "source": [
    "from datasets import load_dataset\n",
    "import pandas as pd\n",
    "\n",
    "# Download the dataset\n",
    "dataset = load_dataset(\"jkhedri/psychology-dataset\")\n",
    "\n",
    "# Access the training split (you can modify this if you want a different split)\n",
    "train_dataset = dataset[\"train\"]\n",
    "\n",
    "# Convert the dataset to a Pandas DataFrame\n",
    "df = pd.DataFrame(train_dataset)\n",
    "\n",
    "# Change column names\n",
    "df = df.rename(columns={\"question\": \"instruction\", \"response_j\": \"output\"})\n",
    "\n",
    "# Delete the \"response_k\" column\n",
    "df = df.drop(\"response_k\", axis=1)\n",
    "\n",
    "# Save the modified dataset as a JSONL file\n",
    "output_file = \"modified_psychology_dataset.jsonl\"\n",
    "df.to_json(output_file, orient=\"records\", lines=True)\n",
    "\n",
    "print(f\"Modified dataset saved to {output_file}\")\n"
   ]
  }
 ],
 "metadata": {
  "kernelspec": {
   "display_name": "Python 3",
   "language": "python",
   "name": "python3"
  },
  "language_info": {
   "codemirror_mode": {
    "name": "ipython",
    "version": 3
   },
   "file_extension": ".py",
   "mimetype": "text/x-python",
   "name": "python",
   "nbconvert_exporter": "python",
   "pygments_lexer": "ipython3",
   "version": "3.10.0"
  }
 },
 "nbformat": 4,
 "nbformat_minor": 2
}
