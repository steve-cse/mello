{
 "cells": [
  {
   "cell_type": "code",
   "execution_count": 8,
   "metadata": {},
   "outputs": [],
   "source": [
    "import pandas as pd"
   ]
  },
  {
   "cell_type": "code",
   "execution_count": 9,
   "metadata": {},
   "outputs": [],
   "source": [
    "df = pd.read_csv('counsel_chat.csv')"
   ]
  },
  {
   "cell_type": "code",
   "execution_count": 13,
   "metadata": {},
   "outputs": [
    {
     "data": {
      "text/plain": [
       "Index(['questionID', 'questionTitle', 'questionText', 'questionLink', 'topic',\n",
       "       'therapistInfo', 'therapistURL', 'answerText', 'upvotes', 'views'],\n",
       "      dtype='object')"
      ]
     },
     "execution_count": 13,
     "metadata": {},
     "output_type": "execute_result"
    }
   ],
   "source": [
    "df.columns"
   ]
  },
  {
   "cell_type": "code",
   "execution_count": 1,
   "metadata": {},
   "outputs": [
    {
     "name": "stdout",
     "output_type": "stream",
     "text": [
      "                                         instruction       input  \\\n",
      "0  I have so many issues to address. I have a his...  depression   \n",
      "1  I have so many issues to address. I have a his...  depression   \n",
      "2  I have so many issues to address. I have a his...  depression   \n",
      "3  I have so many issues to address. I have a his...  depression   \n",
      "4  I have so many issues to address. I have a his...  depression   \n",
      "\n",
      "                                              output  \n",
      "0  It is very common for people to have multiple ...  \n",
      "1  I've never heard of someone having \"too many i...  \n",
      "2  Absolutely not.  I strongly recommending worki...  \n",
      "3  Let me start by saying there are never too man...  \n",
      "4  I just want to acknowledge you for the courage...  \n"
     ]
    }
   ],
   "source": [
    "import pandas as pd\n",
    "\n",
    "# Assuming your CSV file is named 'your_dataset.csv'\n",
    "file_path = '20220401_counsel_chat.csv'\n",
    "\n",
    "# Read the CSV file into a DataFrame\n",
    "df = pd.read_csv(file_path)\n",
    "\n",
    "# Select only the desired columns: 'questionText', 'topic', and 'answerText'\n",
    "selected_columns = ['questionText', 'topic', 'answerText']\n",
    "df_modified = df[selected_columns]\n",
    "\n",
    "# Rename the columns to 'question', 'category', and 'answer'\n",
    "df_modified.columns = ['instruction', 'input', 'output']\n",
    "\n",
    "# Save the modified DataFrame to a JSON Lines (jsonl) file\n",
    "df_modified.to_json('counsel_chat.jsonl', orient='records', lines=True)\n",
    "\n",
    "# Display the first few rows of the modified DataFrame\n",
    "print(df_modified.head())\n"
   ]
  }
 ],
 "metadata": {
  "kernelspec": {
   "display_name": "Python 3",
   "language": "python",
   "name": "python3"
  },
  "language_info": {
   "codemirror_mode": {
    "name": "ipython",
    "version": 3
   },
   "file_extension": ".py",
   "mimetype": "text/x-python",
   "name": "python",
   "nbconvert_exporter": "python",
   "pygments_lexer": "ipython3",
   "version": "3.10.0"
  }
 },
 "nbformat": 4,
 "nbformat_minor": 2
}
